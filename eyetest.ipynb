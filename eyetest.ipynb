{
 "cells": [
  {
   "cell_type": "code",
   "execution_count": null,
   "metadata": {},
   "outputs": [],
   "source": [
    "import skimage.io as io\n",
    "import scipy.fft as fft\n",
    "import cv2"
   ]
  },
  {
   "cell_type": "code",
   "execution_count": null,
   "metadata": {},
   "outputs": [],
   "source": []
  },
  {
   "cell_type": "code",
   "execution_count": null,
   "metadata": {},
   "outputs": [],
   "source": [
    "img_rgb = io.imread('eyetest.jpg')\n",
    "img_grey = cv2.cvtColor(img_rgb, cv2.COLOR_BGR2GRAY)"
   ]
  },
  {
   "cell_type": "code",
   "execution_count": null,
   "metadata": {},
   "outputs": [],
   "source": [
    "face_cascade = cv2.CascadeClassifier(\n",
    "    cv2.data.haarcascades + 'haarcascade_frontalface_default.xml'\n",
    ")\n",
    "\n",
    "faces = face_cascade.detectMultiScale(img_grey, 1.3, 5)"
   ]
  },
  {
   "cell_type": "code",
   "execution_count": null,
   "metadata": {},
   "outputs": [],
   "source": [
    "import numpy as np\n",
    "\n",
    "\n",
    "(x, y, w, h) = faces[0]\n",
    "\n",
    "resize = cv2.resize(img_grey[x:x+w, y:y+h], (128, 128))\n",
    "resize = resize / 255\n",
    "resize = np.log(resize + 1)\n",
    "eyeloc = np.copy(resize)\n",
    "eyeloc[29,60] = 1\n",
    "eyeloc[28,106] = 1\n",
    "io.imshow(eyeloc)"
   ]
  },
  {
   "cell_type": "code",
   "execution_count": null,
   "metadata": {},
   "outputs": [],
   "source": [
    "# find guassian of left eye\n",
    "xvals = np.arange(0,128) - 29\n",
    "yvals = np.arange(0,128) - 60\n",
    "sigma = 1.0\n",
    "gauss = np.zeros([128,128])\n",
    "for i in range(127):\n",
    "    for j in range(127):\n",
    "        gauss[i, j] = np.exp(-1.0 * (np.square(i - 29) + np.square(j - 60)) / np.square(sigma))\n"
   ]
  },
  {
   "cell_type": "code",
   "execution_count": null,
   "metadata": {},
   "outputs": [],
   "source": [
    "imgf = fft.fft2(resize)\n",
    "gaussf = fft.fft2(gauss)\n",
    "asef = gaussf/imgf"
   ]
  },
  {
   "cell_type": "code",
   "execution_count": null,
   "metadata": {},
   "outputs": [],
   "source": [
    "thresh = np.abs(fft.ifft2(asef * imgf))\n",
    "thresh[thresh > 0.005] = 1\n",
    "thresh[thresh <= 0.005] = 0.2\n",
    "print(thresh.max(), thresh.min())\n",
    "print(thresh.shape, resize.shape)\n",
    "import commonfunctions as cf\n",
    "cf.show_images([resize * thresh])\n"
   ]
  },
  {
   "cell_type": "code",
   "execution_count": null,
   "metadata": {},
   "outputs": [],
   "source": [
    "import dlib\n",
    "import cv2\n",
    "detector = dlib.get_frontal_face_detector() \n",
    "predictor=dlib.shape_predictor(\"./shape_predictor_68_face_landmarks.dat\")\n",
    "img = cv2.imread('./r.jpg')\n",
    "gray = cv2.cvtColor(img, cv2.COLOR_BGR2GRAY)\n",
    "detect=detector(gray,1)\n",
    "shape=predictor(gray,detect[0])\n",
    "x1, y1 =(shape.part(37).x + shape.part(40).x)//2, (shape.part(37).y + shape.part(40).y)//2\n",
    "x2, y2 =(shape.part(43).x + shape.part(46).x)//2, (shape.part(43).y + shape.part(46).y)//2\n",
    "cv2.circle(gray, (x1,y1), 2, 255, -1)\n",
    "cv2.circle(gray, (x2,y2), 2, 255, -1)\n",
    "io.imshow(gray)"
   ]
  },
  {
   "cell_type": "code",
   "execution_count": 24,
   "metadata": {},
   "outputs": [],
   "source": [
    "from eyeloc import eyelocator\n",
    "import cv2\n",
    "import skimage.io as io\n",
    "import scipy.fft as fft"
   ]
  },
  {
   "cell_type": "code",
   "execution_count": 10,
   "metadata": {},
   "outputs": [
    {
     "name": "stdout",
     "output_type": "stream",
     "text": [
      "Finished training, taken = 1489, skipped = 211\n"
     ]
    }
   ],
   "source": [
    "locator = eyelocator()\n",
    "imgs = []\n",
    "# img = cv2.imread('./r.jpg')\n",
    "# img2 = cv2.imread('./rock.jpg')\n",
    "# img3 = cv2.imread('./background.jpg')\n",
    "# img4 = cv2.imread('./cr7.jpg')\n",
    "# img5 = cv2.imread('./cr8.jpg')\n",
    "# img6 = cv2.imread('./cr9.png')\n",
    "for i in range(1700):\n",
    "    imgs.append(cv2.imread(f'./dataset/ ({i+1}).jpg'))\n",
    "locator.train(imgs)"
   ]
  },
  {
   "cell_type": "code",
   "execution_count": 34,
   "metadata": {},
   "outputs": [
    {
     "data": {
      "text/plain": [
       "<matplotlib.image.AxesImage at 0x2848df342b0>"
      ]
     },
     "execution_count": 34,
     "metadata": {},
     "output_type": "execute_result"
    },
    {
     "data": {
      "image/png": "[encoded data removed]",
      "text/plain": [
       "<Figure size 432x288 with 1 Axes>"
      ]
     },
     "metadata": {
      "needs_background": "light"
     },
     "output_type": "display_data"
    }
   ],
   "source": [
    "img = cv2.imread(f'./dataset/ (1500).jpg')\n",
    "img_grey = cv2.cvtColor(img, cv2.COLOR_BGR2GRAY)\n",
    "\n",
    "face_cascade = cv2.CascadeClassifier(\n",
    "            cv2.data.haarcascades + 'haarcascade_frontalface_default.xml'\n",
    "        )\n",
    "faces = face_cascade.detectMultiScale(img_grey, 1.3, 5)\n",
    "(y, x, h, w) = faces[0]\n",
    "face = img_grey[x : x + w, y : y + h]\n",
    "\n",
    "io.imshow(locator.findeye(face))"
   ]
  },
  {
   "cell_type": "code",
   "execution_count": 22,
   "metadata": {},
   "outputs": [],
   "source": [
    "#dump\n",
    "import pickle\n",
    "import io\n",
    "import cv2\n",
    "import numpy as np\n",
    "pickleBuffer = io.BytesIO() \n",
    "filehandler = open('gaussian_eye_detector', 'w') \n",
    "np.save('left_eye_asef', locator.left_eye_asef)\n",
    "np.save('right_eye_asef', locator.right_eye_asef)"
   ]
  },
  {
   "cell_type": "code",
   "execution_count": null,
   "metadata": {},
   "outputs": [],
   "source": []
  }
 ],
 "metadata": {
  "kernelspec": {
   "display_name": "base",
   "language": "python",
   "name": "python3"
  },
  "language_info": {
   "codemirror_mode": {
    "name": "ipython",
    "version": 3
   },
   "file_extension": ".py",
   "mimetype": "text/x-python",
   "name": "python",
   "nbconvert_exporter": "python",
   "pygments_lexer": "ipython3",
   "version": "3.8.8"
  },
  "orig_nbformat": 4,
  "vscode": {
   "interpreter": {
    "hash": "f0ee4417ff8df5ee4677a7f9805bc0b4fa7ad1e71754d6ce967ab9091e76890e"
   }
  }
 },
 "nbformat": 4,
 "nbformat_minor": 2
}
