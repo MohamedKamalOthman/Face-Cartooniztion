{
 "cells": [
  {
   "cell_type": "code",
   "execution_count": 1,
   "metadata": {},
   "outputs": [],
   "source": [
    "import matplotlib.pyplot as plt\n",
    "from test import test\n",
    "%matplotlib inline"
   ]
  },
  {
   "cell_type": "code",
   "execution_count": 2,
   "metadata": {},
   "outputs": [
    {
     "name": "stdout",
     "output_type": "stream",
     "text": [
      "\n",
      "Started testing...\n",
      "Left Eye accuracy: 1.3303769401330376%\n",
      "correct: 6, false: 445\n",
      "Right Eye accuracy: 1.3303769401330376%\n",
      "correct: 6, false: 445\n",
      "Nose accuracy: 0.4434589800443459%\n",
      "correct: 2, false: 449\n",
      "Mouth accuracy: 0.22172949002217296%\n",
      "correct: 1, false: 450\n",
      "\n",
      "Started testing...\n",
      "Left Eye accuracy: 53.21507760532151%\n",
      "correct: 240, false: 211\n",
      "Right Eye accuracy: 57.20620842572062%\n",
      "correct: 258, false: 193\n",
      "Nose accuracy: 30.82039911308204%\n",
      "correct: 139, false: 312\n",
      "Mouth accuracy: 38.35920177383592%\n",
      "correct: 173, false: 278\n",
      "\n",
      "Started testing...\n",
      "Left Eye accuracy: 90.46563192904657%\n",
      "correct: 408, false: 43\n",
      "Right Eye accuracy: 90.9090909090909%\n",
      "correct: 410, false: 41\n",
      "Nose accuracy: 70.28824833702882%\n",
      "correct: 317, false: 134\n",
      "Mouth accuracy: 78.49223946784923%\n",
      "correct: 354, false: 97\n",
      "\n",
      "Started testing...\n",
      "Left Eye accuracy: 95.78713968957871%\n",
      "correct: 432, false: 19\n",
      "Right Eye accuracy: 96.23059866962306%\n",
      "correct: 434, false: 17\n",
      "Nose accuracy: 89.13525498891353%\n",
      "correct: 402, false: 49\n",
      "Mouth accuracy: 92.46119733924613%\n",
      "correct: 417, false: 34\n",
      "\n",
      "Started testing...\n",
      "Left Eye accuracy: 96.23059866962306%\n",
      "correct: 434, false: 17\n",
      "Right Eye accuracy: 96.6740576496674%\n",
      "correct: 436, false: 15\n",
      "Nose accuracy: 94.90022172949003%\n",
      "correct: 428, false: 23\n",
      "Mouth accuracy: 94.67849223946784%\n",
      "correct: 427, false: 24\n",
      "\n",
      "Started testing...\n",
      "Left Eye accuracy: 96.6740576496674%\n",
      "correct: 436, false: 15\n",
      "Right Eye accuracy: 96.6740576496674%\n",
      "correct: 436, false: 15\n",
      "Nose accuracy: 95.78713968957871%\n",
      "correct: 432, false: 19\n",
      "Mouth accuracy: 95.56541019955654%\n",
      "correct: 431, false: 20\n",
      "\n",
      "Started testing...\n",
      "Left Eye accuracy: 96.89578713968957%\n",
      "correct: 437, false: 14\n",
      "Right Eye accuracy: 96.6740576496674%\n",
      "correct: 436, false: 15\n",
      "Nose accuracy: 96.23059866962306%\n",
      "correct: 434, false: 17\n",
      "Mouth accuracy: 95.78713968957871%\n",
      "correct: 432, false: 19\n",
      "\n",
      "Started testing...\n",
      "Left Eye accuracy: 97.78270509977827%\n",
      "correct: 441, false: 10\n",
      "Right Eye accuracy: 97.11751662971176%\n",
      "correct: 438, false: 13\n",
      "Nose accuracy: 97.5609756097561%\n",
      "correct: 440, false: 11\n",
      "Mouth accuracy: 96.6740576496674%\n",
      "correct: 436, false: 15\n"
     ]
    }
   ],
   "source": [
    "dists  = [1,5,10,15,20,25,35,50]\n",
    "y = []\n",
    "for dist in dists:\n",
    "    correct, false = test(dist)\n",
    "    y.append(correct * 100.0 / (correct + false))"
   ]
  },
  {
   "cell_type": "code",
   "execution_count": 3,
   "metadata": {},
   "outputs": [
    {
     "data": {
      "image/png": "[encoded data removed]",
      "text/plain": [
       "<Figure size 432x288 with 1 Axes>"
      ]
     },
     "metadata": {
      "needs_background": "light"
     },
     "output_type": "display_data"
    }
   ],
   "source": [
    "import numpy as np\n",
    "\n",
    "\n",
    "plt.plot(dists, y)\n",
    "plt.title('Maximum Distance vs %Correct')\n",
    "plt.yticks(np.arange(0,101,5));"
   ]
  },
  {
   "cell_type": "code",
   "execution_count": null,
   "metadata": {},
   "outputs": [],
   "source": []
  }
 ],
 "metadata": {
  "kernelspec": {
   "display_name": "base",
   "language": "python",
   "name": "python3"
  },
  "language_info": {
   "codemirror_mode": {
    "name": "ipython",
    "version": 3
   },
   "file_extension": ".py",
   "mimetype": "text/x-python",
   "name": "python",
   "nbconvert_exporter": "python",
   "pygments_lexer": "ipython3",
   "version": "3.8.8"
  },
  "orig_nbformat": 4,
  "vscode": {
   "interpreter": {
    "hash": "f0ee4417ff8df5ee4677a7f9805bc0b4fa7ad1e71754d6ce967ab9091e76890e"
   }
  }
 },
 "nbformat": 4,
 "nbformat_minor": 2
}
