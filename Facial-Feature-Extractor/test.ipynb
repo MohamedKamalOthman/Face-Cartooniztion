{
 "cells": [
  {
   "cell_type": "code",
   "execution_count": 1,
   "metadata": {},
   "outputs": [],
   "source": [
    "import matplotlib.pyplot as plt\n",
    "from test import test\n",
    "%matplotlib inline"
   ]
  },
  {
   "cell_type": "code",
   "execution_count": 2,
   "metadata": {},
   "outputs": [
    {
     "name": "stdout",
     "output_type": "stream",
     "text": [
      "\n",
      "Started testing...\n",
      "Left Eye accuracy: 1.9955654101995566%\n",
      "correct: 9, false: 442\n",
      "Right Eye accuracy: 0.8869179600886918%\n",
      "correct: 4, false: 447\n",
      "Nose accuracy: 0.0%\n",
      "correct: 0, false: 451\n",
      "Mouth accuracy: 0.4434589800443459%\n",
      "correct: 2, false: 449\n",
      "\n",
      "Started testing...\n",
      "Left Eye accuracy: 44.789356984478935%\n",
      "correct: 202, false: 249\n",
      "Right Eye accuracy: 42.12860310421286%\n",
      "correct: 190, false: 261\n",
      "Nose accuracy: 25.277161862527716%\n",
      "correct: 114, false: 337\n",
      "Mouth accuracy: 27.0509977827051%\n",
      "correct: 122, false: 329\n",
      "\n",
      "Started testing...\n",
      "Left Eye accuracy: 82.039911308204%\n",
      "correct: 370, false: 81\n",
      "Right Eye accuracy: 84.25720620842571%\n",
      "correct: 380, false: 71\n",
      "Nose accuracy: 64.52328159645232%\n",
      "correct: 291, false: 160\n",
      "Mouth accuracy: 67.40576496674058%\n",
      "correct: 304, false: 147\n",
      "\n",
      "Started testing...\n",
      "Left Eye accuracy: 90.9090909090909%\n",
      "correct: 410, false: 41\n",
      "Right Eye accuracy: 92.6829268292683%\n",
      "correct: 418, false: 33\n",
      "Nose accuracy: 83.5920177383592%\n",
      "correct: 377, false: 74\n",
      "Mouth accuracy: 87.36141906873614%\n",
      "correct: 394, false: 57\n",
      "\n",
      "Started testing...\n",
      "Left Eye accuracy: 92.46119733924613%\n",
      "correct: 417, false: 34\n",
      "Right Eye accuracy: 95.34368070953437%\n",
      "correct: 430, false: 21\n",
      "Nose accuracy: 91.7960088691796%\n",
      "correct: 414, false: 37\n",
      "Mouth accuracy: 92.46119733924613%\n",
      "correct: 417, false: 34\n",
      "\n",
      "Started testing...\n",
      "Left Eye accuracy: 93.34811529933481%\n",
      "correct: 421, false: 30\n",
      "Right Eye accuracy: 95.56541019955654%\n",
      "correct: 431, false: 20\n",
      "Nose accuracy: 92.6829268292683%\n",
      "correct: 418, false: 33\n",
      "Mouth accuracy: 93.79157427937916%\n",
      "correct: 423, false: 28\n",
      "\n",
      "Started testing...\n",
      "Left Eye accuracy: 94.01330376940133%\n",
      "correct: 424, false: 27\n",
      "Right Eye accuracy: 95.78713968957871%\n",
      "correct: 432, false: 19\n",
      "Nose accuracy: 93.56984478935698%\n",
      "correct: 422, false: 29\n",
      "Mouth accuracy: 94.2350332594235%\n",
      "correct: 425, false: 26\n",
      "\n",
      "Started testing...\n",
      "Left Eye accuracy: 95.56541019955654%\n",
      "correct: 431, false: 20\n",
      "Right Eye accuracy: 96.6740576496674%\n",
      "correct: 436, false: 15\n",
      "Nose accuracy: 95.56541019955654%\n",
      "correct: 431, false: 20\n",
      "Mouth accuracy: 94.90022172949003%\n",
      "correct: 428, false: 23\n"
     ]
    }
   ],
   "source": [
    "dists  = [1,5,10,15,20,25,35,50]\n",
    "y = []\n",
    "for dist in dists:\n",
    "    correct, false = test(dist)\n",
    "    y.append(correct * 100.0 / (correct + false))"
   ]
  },
  {
   "cell_type": "code",
   "execution_count": 3,
   "metadata": {},
   "outputs": [
    {
     "data": {
      "image/png": "[encoded data removed]",
      "text/plain": [
       "<Figure size 432x288 with 1 Axes>"
      ]
     },
     "metadata": {
      "needs_background": "light"
     },
     "output_type": "display_data"
    }
   ],
   "source": [
    "import numpy as np\n",
    "\n",
    "\n",
    "plt.plot(dists, y)\n",
    "plt.title('Maximum Distance vs %Correct')\n",
    "plt.yticks(np.arange(0,101,5));"
   ]
  },
  {
   "cell_type": "code",
   "execution_count": null,
   "metadata": {},
   "outputs": [],
   "source": []
  }
 ],
 "metadata": {
  "kernelspec": {
   "display_name": "base",
   "language": "python",
   "name": "python3"
  },
  "language_info": {
   "codemirror_mode": {
    "name": "ipython",
    "version": 3
   },
   "file_extension": ".py",
   "mimetype": "text/x-python",
   "name": "python",
   "nbconvert_exporter": "python",
   "pygments_lexer": "ipython3",
   "version": "3.8.8"
  },
  "orig_nbformat": 4,
  "vscode": {
   "interpreter": {
    "hash": "f0ee4417ff8df5ee4677a7f9805bc0b4fa7ad1e71754d6ce967ab9091e76890e"
   }
  }
 },
 "nbformat": 4,
 "nbformat_minor": 2
}
